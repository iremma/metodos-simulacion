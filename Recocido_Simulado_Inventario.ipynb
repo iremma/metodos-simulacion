{
 "cells": [
  {
   "cell_type": "markdown",
   "metadata": {
    "id": "coydZooWjM4t"
   },
   "source": [
    "## ***SIMULACIÓN***  \n",
    "Métodos necesarios para la simulación del inventario"
   ]
  },
  {
   "cell_type": "code",
   "execution_count": null,
   "metadata": {},
   "outputs": [],
   "source": [
    "from scipy import stats\n",
    "import numpy as np\n",
    "import matplotlib.pyplot as plt"
   ]
  },
  {
   "cell_type": "markdown",
   "metadata": {},
   "source": [
    "Inicialización de variables"
   ]
  },
  {
   "cell_type": "code",
   "execution_count": null,
   "metadata": {},
   "outputs": [],
   "source": [
    "x_1 = 70 #numero de unidades del producto 1\n",
    "x_2 = 70 #numero de unidades del producto 2\n",
    "T_simulacion = 5*24*30\n",
    "#T_simulacion = 5*30*24 #tiempo transcurrido en la simulacion en horas\n",
    "Tp = 7*24 #cada cuanto pide (cada semana)\n",
    "lista = {'tc': 0,  # tiempo en el que ha llegado un cliente\n",
    "         'tpc': 0, # tiempo en el que se ha comprado un pedido\n",
    "         'tp': 0}  # tiempo en el que ha llegado un pedido\n",
    "R = 0 #beneficio esperado\n",
    "P1 = 1000 #numero de unidades max del producto 1\n",
    "P2 = 1500 #numero de unidades max del producto 2\n",
    "Nc = 0 #numero de clientes satisfechos\n",
    "Nnc = 0 # numero de clientes no satisfechos\n",
    "t0 = 0 # numero de tiempo que el intervalo esta a cero\n",
    "C = 0 #coste total por pedidos\n",
    "H = 0 #coste total por almacenamiento\n",
    "lambda_poisson = 0.5\n",
    "demanda = [1, 2, 3, 4] #posibles demandas del producto\n",
    "probab_1 = [0.3, 0.4, 0.2, 0.1] #probabilidades de demanda del producto 1\n",
    "probab_2 = [0.2, 0.2, 0.4, 0.2] #probabilidades de demanda del producto 2\n",
    "r_1 = 2.5 #coste al publico del producto 1\n",
    "r_2 = 3.5 #coste al publico del producto 2\n",
    "h = 0.0002 #precio sumado por producto y unidad de tiempo\n",
    "mu = 48 #tiempo de media que tarda un pedido\n",
    "sigma = 3.5 #desviacion tipica de lo que tarda un pedido\n",
    "K = 100 #coste fijo del proveedor\n",
    "n_descuent_1 = 600 #unidades mayores a estas obtienen descuento en producto 1\n",
    "p1_1 = 1 # precio si son menos de 600 uds del producto 1\n",
    "p1_2 = 0.75 # precio si son mas de 600 uds del producto 1\n",
    "n_descuent_2 = 800\n",
    "p2_1 = 1.5\n",
    "p2_2 = 1.25\n",
    "L = 0 #lo que tarda en llegar el pedido desde que se compra\n",
    "Lref = 48 #tiempo media de llegada del pedido\n",
    "lim_penal = 3 #a partir de estas horas de retraso del pedido, penalizacion\n",
    "penal = 0.0003 # la penalizacion en el precio si llega tarde/pronto \n",
    "t_real = 0\n",
    "var_aux = 0 # instante en el que el almacen se vacia completamnete\n",
    "ts = 0 #tiempo de simulacion\n",
    "\n",
    "#Vectores para la representación gráfica de los niveles de inventario de los dos tipos de producto a lo largo del tiempo\n",
    "\n",
    "tiempos_1 = [0]\n",
    "niveles_1 = [70]\n",
    "tiempos_2 = [0]\n",
    "niveles_2 = [70]\n",
    "\n",
    "# datos_grafica [producto 1 o 2] [tiempo (0) o nivel(1)] [i]  \n",
    "datos_grafica = [\"\",\n",
    "                 [[0],[70]], # tiempo y nivel producto 1\n",
    "                 [[0],[70]]  # tiempo y nivel producto 2\n",
    "                ]"
   ]
  },
  {
   "cell_type": "markdown",
   "metadata": {},
   "source": [
    "Métodos para la simulación"
   ]
  },
  {
   "cell_type": "code",
   "execution_count": null,
   "metadata": {},
   "outputs": [],
   "source": [
    "def rutina_llegada_cliente(ts):\n",
    "    global H, h, t_real, x_1, x_2, Nc, Nnc, var_aux, R, Y, y_1, y_2\n",
    "    global r_1, r_2, var_aux, T_simulacion, tiempos_1, tiempos_2\n",
    "    global niveles_1, niveles_2\n",
    "  \n",
    "    #Aumenta el coste de almacenamiento\n",
    "    H += (ts-t_real)*h*(x_1+x_2)\n",
    "    t_real = ts\n",
    "  \n",
    "    #Generamos demanda del cliente\n",
    "    demanda_1 = np.random.choice(demanda, 1, p=probab_1)[0]\n",
    "    demanda_2 = np.random.choice(demanda, 1, p=probab_2)[0]\n",
    "  \n",
    "    #Si hay suficiente almacenado, esta satisfecho\n",
    "    if demanda_1<=x_1 and demanda_2<=x_2 :\n",
    "        R += demanda_1*r_1 + demanda_2*r_2 #sube el beneficio\n",
    "        x_1 -= demanda_1   #baja el inventario\n",
    "        x_2 -= demanda_2\n",
    "        Nc += 1 #cliente satisfecho\n",
    "    #Si no hay suficiente almacenado de algun producto, no esta satisfecho\n",
    "    else:\n",
    "        Nnc += 1 #cliente no satisfecho\n",
    "        if demanda_1 <= x_1:\n",
    "            R += demanda_1*r_1 \n",
    "            x_1 -= demanda_1\n",
    "        elif demanda_2 <= x_2:\n",
    "            R += demanda_2*r_2 \n",
    "            x_2 -= demanda_2\n",
    "    \n",
    "    # Si se ha vaciado del todo (y antes no estaba vacio) guardamos el tiempo actual\n",
    "    if x_2 == 0 and x_1 == 0 and var_aux == 0 :\n",
    "        var_aux = t_real\n",
    "    \n",
    "    #Generamos el tiempo que tarda en llegar el siguiente cliente\n",
    "    Y = stats.poisson.rvs(lambda_poisson, size=1)[0] \n",
    "  \n",
    "    # si el cliente llega antes de acabar la simulacion, se simula\n",
    "    if Y+t_real < T_simulacion:\n",
    "        lista['tc'] = t_real+Y "
   ]
  },
  {
   "cell_type": "code",
   "execution_count": null,
   "metadata": {},
   "outputs": [],
   "source": [
    "def rutina_llegada_pedido(ts):\n",
    "    global H, K, h, t_real, C, t0, var_aux, x_1, x_2, y_1, y_2\n",
    "    global p1_1, p1_2, p2_1, p2_1, penal, var_aux\n",
    "    global tiempos_1, tiempos_2, niveles_1, niveles_2\n",
    "  \n",
    "    #Aumenta el coste de almacenamiento\n",
    "    H += (ts-t_real)*h*(x_1+x_2)\n",
    "    t_real = ts\n",
    "  \n",
    "    #Aumenta el nivel de inventario\n",
    "    x_1 += y_1\n",
    "    x_2 += y_2\n",
    "  \n",
    "    #Si son muchas unidades, descuento en el precio\n",
    "    Ci_1 = K + y_1 * p1_1 if y_1<=n_descuent_1 else K + y_1 * p1_2\n",
    "    Ci_2 = K + y_2 * p2_1 if y_2<=n_descuent_2 else K + y_2 * p2_2\n",
    "  \n",
    "    #Si llega pronto es mas caro, si llega tarde, es mas barato\n",
    "    if L < Lref-lim_penal:\n",
    "        C += (Ci_1 + Ci_2) * (1 + penal)\n",
    "    elif L > Lref+lim_penal:\n",
    "        C += (Ci_1 + Ci_2) * (1 - penal)\n",
    "    else:\n",
    "        C += Ci_1 + Ci_2\n",
    "  \n",
    "    #Ya no quedan productos por llegar\n",
    "    y_1 = 0\n",
    "    y_2 = 0\n",
    "  \n",
    "    # Si estaba vacio el invenario (se vacio en el instante var_aux),\n",
    "    # aumenta el tiempo que ha estado vacio.\n",
    "    if var_aux > 0:\n",
    "        t0 += t_real - var_aux\n",
    "        var_aux = 0"
   ]
  },
  {
   "cell_type": "code",
   "execution_count": null,
   "metadata": {},
   "outputs": [],
   "source": [
    "def rutina_compra_pedido(ts):\n",
    "    global H, x_1, x_2, t_real, y_1, y_2, h, t_real\n",
    "    global P1, P2, lista, T_simulacion\n",
    "\n",
    "    # Aumenta el coste de almacenamiento\n",
    "    H += (ts-t_real)*h*(x_1+x_2)\n",
    "    t_real = ts\n",
    "  \n",
    "    #Cantidad a pedir es lo que falta para llenar el almacen\n",
    "    y_1 = P1 - x_1\n",
    "    y_2 = P2 - x_2\n",
    "\n",
    "    #Generamos cuanto va a tardar en llegar el pedido\n",
    "    L = np.random.normal(mu, sigma, 1)[0]\n",
    "\n",
    "    # actualizamos el tiempo de llegada del pedido y el tiempo de siguiente compra\n",
    "    if L+t_real < T_simulacion:\n",
    "        lista['tp'] = t_real + L\n",
    "    \n",
    "    if t_real+Tp < T_simulacion:\n",
    "        lista['tpc'] = t_real + Tp"
   ]
  },
  {
   "cell_type": "markdown",
   "metadata": {},
   "source": [
    "Rutina para la simulación"
   ]
  },
  {
   "cell_type": "code",
   "execution_count": 28,
   "metadata": {
    "id": "oaJMDwBSjX0s"
   },
   "outputs": [],
   "source": [
    "def simul_main(periodicidad,nivel_1,nivel_2):\n",
    "    global x_1, x_2, T_simulacion , Tp, lista, R, P1, P2, Nc, Nnc, t0, C, H\n",
    "    global lambda_poisson, demanda, probab_1, probab_2, r_1, r_2, h, mu, sigma\n",
    "    global K, n_descuent_1, p1_1, p1_2, p2_1, p2_2, n_descuent_2, L, Lref\n",
    "    global lim_penal, penal, treal, var_aux, ts\n",
    "  \n",
    "    #Reseteamos las variables\n",
    "\n",
    "    x_1 = 70 #numero de unidades del producto 1\n",
    "    x_2 = 70 #numero de unidades del producto 2\n",
    "    T_simulacion = 5*24*30\n",
    "    #T_simulacion = 5*30*24 #tiempo transcurrido en la simulacion en horas\n",
    "    Tp = periodicidad #cada cuanto pide (cada semana)\n",
    "    lista = {'tc': 0,  # tiempo en el que ha llegado un cliente\n",
    "            'tpc': 0, # tiempo en el que se ha comprado un pedido\n",
    "            'tp': 0}  # tiempo en el que ha llegado un pedido\n",
    "    R = 0 #beneficio esperado\n",
    "    P1 = nivel_1 #numero de unidades max del producto 1\n",
    "    P2 = nivel_2 #numero de unidades max del producto 2\n",
    "    Nc = 0 #numero de clientes satisfechos\n",
    "    Nnc = 0 # numero de clientes no satisfechos\n",
    "    t0 = 0 # numero de tiempo que el intervalo esta a cero\n",
    "    C = 0 #coste total por pedidos\n",
    "    H = 0 #coste total por almacenamiento\n",
    "    lambda_poisson = 0.5\n",
    "    demanda = [1, 2, 3, 4] #posibles demandas del producto\n",
    "    probab_1 = [0.3, 0.4, 0.2, 0.1] #probabilidades de demanda del producto 1\n",
    "    probab_2 = [0.2, 0.2, 0.4, 0.2] #probabilidades de demanda del producto 2\n",
    "    r_1 = 2.5 #coste al publico del producto 1\n",
    "    r_2 = 3.5 #coste al publico del producto 2\n",
    "    h = 0.0002 #precio sumado por producto y unidad de tiempo\n",
    "    mu = 48 #tiempo de media que tarda un pedido\n",
    "    sigma = 3.5 #desviacion tipica de lo que tarda un pedido\n",
    "    K = 100 #coste fijo del proveedor\n",
    "    n_descuent_1 = 600 #unidades mayores a estas obtienen descuento en producto 1\n",
    "    p1_1 = 1 # precio si son menos de 600 uds del producto 1\n",
    "    p1_2 = 0.75 # precio si son mas de 600 uds del producto 1\n",
    "    n_descuent_2 = 800\n",
    "    p2_1 = 1.5\n",
    "    p2_2 = 1.25\n",
    "    L = 0 #lo que tarda en llegar el pedido desde que se compra\n",
    "    Lref = 48 #tiempo media de llegada del pedido\n",
    "    lim_penal = 3 #a partir de estas horas de retraso del pedido, penalizacion\n",
    "    penal = 0.0003 # la penalizacion en el precio si llega tarde/pronto \n",
    "    t_real = 0\n",
    "    var_aux = 0 # instante en el que el almacen se vacia completamnete\n",
    "    ts = 0 #tiempo de simulacion\n",
    "  \n",
    "    # Iniciamos siumlacion\n",
    "    ts = 0\n",
    "    lista['tc'] = 4000\n",
    "    lista['tp'] = 4000\n",
    "    lista['tpc'] = Tp\n",
    "\n",
    "\n",
    "    #Generamos el tiempo que tarda en llegar el primer cliente\n",
    "    Z = stats.poisson.rvs(lambda_poisson, size=1)[0]\n",
    "\n",
    "    #Si el tiempo si pasa del limite T, la simulación se acaba\n",
    "    if Z > T_simulacion: return -1\n",
    "  \n",
    "    #print('** Llega el primer cliente')\n",
    "    rutina_llegada_cliente(Z)\n",
    "  \n",
    "    #Repetir si siguen llegando clientes o siguen llegando pedidos\n",
    "    while (lista['tc']!=4000 or lista['tp']!=4000) and ts <= T_simulacion:\n",
    "    \n",
    "        #Si el siguiente evento es la llegada de un cliente\n",
    "        if lista['tc'] <= lista['tpc'] and lista['tc'] <= lista['tp']:\n",
    "            ts = lista['tc']\n",
    "            lista['tc'] = 4000\n",
    "            rutina_llegada_cliente(ts)\n",
    "\n",
    "        #Si el siguiente evento es la compra de un pedido \n",
    "        elif(lista['tpc']<=lista['tc'] and lista['tpc']<=lista['tp']):\n",
    "            ts = lista['tpc']\n",
    "            lista['tpc'] = 4000\n",
    "            rutina_compra_pedido(ts)\n",
    "\n",
    "        #Si el siguiente evento es una llegada de pedido\n",
    "        elif(lista['tp']<=lista['tc'] and lista['tp']<=lista['tpc']):\n",
    "            ts = lista['tp']\n",
    "            lista['tp'] = 4000\n",
    "            rutina_llegada_pedido(ts)\n",
    "      \n",
    "    benef = R - C - H                #Beneficios\n",
    "    cl_satisf = Nc / (Nc + Nnc) *100 #Porcentaje de clientes satisfechos\n",
    "    t0_tot = t0 / T_simulacion       #Tiempo que ha estado el almacen vacio\n",
    "  \n",
    "    return benef"
   ]
  },
  {
   "cell_type": "markdown",
   "metadata": {
    "id": "87HcjPEZjuwI"
   },
   "source": [
    "## ***RECOCIDO SIMULADO*** "
   ]
  },
  {
   "cell_type": "code",
   "execution_count": null,
   "metadata": {},
   "outputs": [],
   "source": [
    "import random\n",
    "import math\n",
    "import matplotlib"
   ]
  },
  {
   "cell_type": "code",
   "execution_count": null,
   "metadata": {},
   "outputs": [],
   "source": [
    "def buscando_temperatura(T,initial_state):\n",
    "    lista_temp = []\n",
    "    lista_prob=[]\n",
    " \n",
    "    while T>7000:\n",
    "        neighbor = get_neighbor(initial_state)\n",
    "        initial_state[\"benef\"] = get_benef(initial_state)\n",
    "        neighbor[\"benef\"] = get_benef(neighbor)\n",
    "        benef_diff = neighbor[\"benef\"] - initial_state[\"benef\"]\n",
    "        prob = math.exp(-abs(benef_diff) / T)\n",
    "        lista_temp.append(T)\n",
    "        lista_prob.append(prob)\n",
    "        T-=10\n",
    "    grafica('Temperatura inicial','Probabilidad',lista_temp,lista_prob)"
   ]
  },
  {
   "cell_type": "code",
   "execution_count": null,
   "metadata": {},
   "outputs": [],
   "source": [
    "def grafica(titulox,tituloy,x,*args):\n",
    "    for n in args:\n",
    "        plt.plot(x,n)\n",
    "    plt.xlabel(titulox)\n",
    "    plt.ylabel(tituloy)\n",
    "    plt.show()"
   ]
  },
  {
   "cell_type": "code",
   "execution_count": 65,
   "metadata": {
    "id": "cgnpj2-pkIu2"
   },
   "outputs": [],
   "source": [
    "def recocido_simulado(initial_state):\n",
    "    L = 0 #Num de iteraciones donde mantenemos la temperatura\n",
    "    initial_temp = 7500\n",
    "    final_temp =300\n",
    "    alpha = 0.95 #Ritmo de decrecimiento de la temperatura\n",
    "    iteraciones = 1 #Contador de iteraciones\n",
    "    \n",
    "    #Variables graficas\n",
    "    lista_benef = []\n",
    "    lista_temp = []\n",
    "    lista_prob = []\n",
    "    lista_sol = []\n",
    "    lista_niv_1 = []\n",
    "    lista_niv_2 =[]\n",
    "    lista_periodo = []\n",
    "\n",
    "    # Primera iteracion\n",
    "    current_temp = initial_temp\n",
    "    current_state = initial_state\n",
    "    current_state[\"benef\"] = get_benef(current_state)\n",
    "    best_state = current_state\n",
    "    \n",
    "    while current_temp>final_temp:\n",
    "        # Comprobar si el vecino es mejor\n",
    "        neighbor = get_neighbor(current_state)\n",
    "        neighbor[\"benef\"] = get_benef(neighbor)\n",
    "\n",
    "        benef_diff = neighbor[\"benef\"] - current_state[\"benef\"]\n",
    "        prob = math.exp(-abs(benef_diff) / current_temp)\n",
    "\n",
    "        # Si es mejor, aceptamos vecino\n",
    "        # Si es peor, aceptamos si p>u\n",
    "        if benef_diff > 0 or random.uniform(0, 1) < prob:\n",
    "            current_state = neighbor\n",
    "                        \n",
    "        print(\"\\tIt.\"+str(iteraciones)+\n",
    "                    \"\\tTemp.: \"+str(int(current_temp))+\n",
    "                    \"\\tProb.: \"+str(prob)+\n",
    "                    \"\\tBeneficio: \"+str(current_state[\"benef\"])+\n",
    "                    \"\\tParametros: \"+str(current_state[\"periodicidad\"])+\", \"+\n",
    "                                                        str(current_state[\"nivel_1\"])+\", \"+\n",
    "                                                        str(current_state[\"nivel_2\"]))\n",
    "\n",
    "        if best_state[\"benef\"] < current_state[\"benef\"]:\n",
    "            best_state = current_state\n",
    "        \n",
    "        lista_benef.append(best_state['benef'])\n",
    "        lista_temp.append(current_temp)\n",
    "        lista_prob.append(prob)\n",
    "        lista_sol.append(current_state['benef'])\n",
    "        lista_niv_1.append(current_state['nivel_1'])\n",
    "        lista_niv_2.append(current_state['nivel_2'])\n",
    "        lista_periodo.append(current_state['periodicidad'])\n",
    "\n",
    "        # Bajamos temperatura\n",
    "        if L==1:\n",
    "            current_temp = current_temp * alpha\n",
    "            L=0\n",
    "        \n",
    "        iteraciones+=1\n",
    "        L+=1\n",
    "        \n",
    "    grafica('Iteraciones','Mejor Solucion',range(1,iteraciones),lista_benef)\n",
    "    grafica('Iteraciones','Temperatura',range(1,iteraciones),lista_temp)\n",
    "    grafica('Iteraciones','Funcion fitness',range(1,iteraciones),lista_sol)\n",
    "    grafica('Iteraciones','Factores de decision',range(1,iteraciones),lista_niv_1,lista_niv_2,lista_periodo)\n",
    "    grafica('Iteraciones','Probabilidades',range(1,iteraciones),lista_prob)\n",
    "    return best_state"
   ]
  },
  {
   "cell_type": "code",
   "execution_count": null,
   "metadata": {},
   "outputs": [],
   "source": [
    "def get_benef(state):\n",
    "        return simul_main(state[\"periodicidad\"], state[\"nivel_1\"], state[\"nivel_2\"])"
   ]
  },
  {
   "cell_type": "code",
   "execution_count": null,
   "metadata": {},
   "outputs": [],
   "source": [
    "def get_neighbor(state):\n",
    "\n",
    "        \"\"\"Returns neighbors of the argument state for your solution.\"\"\"\n",
    "        new_periodicidad = state[\"periodicidad\"] +    np.random.uniform(-1,1)\n",
    "        new_nivel_1 = state[\"nivel_1\"] +    random.randint(-3,3)\n",
    "        new_nivel_2 = state[\"nivel_2\"] +    random.randint(-3,3)\n",
    "\n",
    "        neighbor = {'periodicidad':new_periodicidad ,    \n",
    "                                            'nivel_1': new_nivel_1,\n",
    "                                            'nivel_2': new_nivel_2 }\n",
    "\n",
    "        return neighbor"
   ]
  },
  {
   "cell_type": "code",
   "execution_count": 66,
   "metadata": {
    "colab": {
     "base_uri": "https://localhost:8080/"
    },
    "id": "H1yryvLIziUl",
    "outputId": "88df66af-907a-4a11-99a2-ad50985949fe"
   },
   "outputs": [
    {
     "name": "stdout",
     "output_type": "stream",
     "text": [
      "\tIt.1\tTemp.: 7500\tProb.: 0.93047920706146\tBeneficio: 53467.9151651484\tParametros: 167.53091532647974, 1501, 998\n",
      "\tIt.2\tTemp.: 7500\tProb.: 0.8119905924134687\tBeneficio: 51905.916230758856\tParametros: 167.77383734211668, 1501, 996\n",
      "\tIt.3\tTemp.: 7125\tProb.: 0.9532139822386084\tBeneficio: 52247.31676980803\tParametros: 168.6769263881372, 1501, 997\n",
      "\tIt.4\tTemp.: 6768\tProb.: 0.6409272524857734\tBeneficio: 55258.32291139827\tParametros: 169.46464170770324, 1504, 999\n",
      "\tIt.5\tTemp.: 6430\tProb.: 0.6992861828274874\tBeneficio: 55258.32291139827\tParametros: 169.46464170770324, 1504, 999\n",
      "\tIt.6\tTemp.: 6108\tProb.: 0.8892095883747018\tBeneficio: 55975.63197501205\tParametros: 170.11862760683218, 1501, 1001\n",
      "\tIt.7\tTemp.: 5803\tProb.: 0.5281221136513569\tBeneficio: 55975.63197501205\tParametros: 170.11862760683218, 1501, 1001\n",
      "\tIt.8\tTemp.: 5513\tProb.: 0.9367296645919595\tBeneficio: 56335.97705212026\tParametros: 170.52497496567196, 1504, 1001\n",
      "\tIt.9\tTemp.: 5237\tProb.: 0.541028744847726\tBeneficio: 56335.97705212026\tParametros: 170.52497496567196, 1504, 1001\n",
      "\tIt.10\tTemp.: 4975\tProb.: 0.8592388283686513\tBeneficio: 55581.12883535878\tParametros: 170.48335525167076, 1503, 1001\n",
      "\tIt.11\tTemp.: 4726\tProb.: 0.7123088784224486\tBeneficio: 53977.56803921518\tParametros: 169.62794226755426, 1503, 1004\n"
     ]
    },
    {
     "ename": "KeyboardInterrupt",
     "evalue": "",
     "output_type": "error",
     "traceback": [
      "\u001b[0;31m---------------------------------------------------------------------------\u001b[0m",
      "\u001b[0;31mKeyboardInterrupt\u001b[0m                         Traceback (most recent call last)",
      "Cell \u001b[0;32mIn [66], line 5\u001b[0m\n\u001b[1;32m      1\u001b[0m initial_state \u001b[39m=\u001b[39m {\u001b[39m'\u001b[39m\u001b[39mperiodicidad\u001b[39m\u001b[39m'\u001b[39m:\u001b[39m168\u001b[39m ,  \n\u001b[1;32m      2\u001b[0m                       \u001b[39m'\u001b[39m\u001b[39mnivel_1\u001b[39m\u001b[39m'\u001b[39m: \u001b[39m1500\u001b[39m,\n\u001b[1;32m      3\u001b[0m                       \u001b[39m'\u001b[39m\u001b[39mnivel_2\u001b[39m\u001b[39m'\u001b[39m: \u001b[39m1000\u001b[39m }\n\u001b[0;32m----> 5\u001b[0m recocido_simulado(initial_state)\n",
      "Cell \u001b[0;32mIn [65], line 58\u001b[0m, in \u001b[0;36mrecocido_simulado\u001b[0;34m(initial_state)\u001b[0m\n\u001b[1;32m     55\u001b[0m \u001b[39mwhile\u001b[39;00m current_temp\u001b[39m>\u001b[39mfinal_temp:\n\u001b[1;32m     56\u001b[0m   \u001b[39m# Comprobar si el vecino es mejor\u001b[39;00m\n\u001b[1;32m     57\u001b[0m   neighbor \u001b[39m=\u001b[39m get_neighbor(current_state)\n\u001b[0;32m---> 58\u001b[0m   neighbor[\u001b[39m\"\u001b[39m\u001b[39mbenef\u001b[39m\u001b[39m\"\u001b[39m] \u001b[39m=\u001b[39m get_benef(neighbor)\n\u001b[1;32m     60\u001b[0m   benef_diff \u001b[39m=\u001b[39m neighbor[\u001b[39m\"\u001b[39m\u001b[39mbenef\u001b[39m\u001b[39m\"\u001b[39m] \u001b[39m-\u001b[39m current_state[\u001b[39m\"\u001b[39m\u001b[39mbenef\u001b[39m\u001b[39m\"\u001b[39m]\n\u001b[1;32m     61\u001b[0m   prob \u001b[39m=\u001b[39m math\u001b[39m.\u001b[39mexp(\u001b[39m-\u001b[39m\u001b[39mabs\u001b[39m(benef_diff) \u001b[39m/\u001b[39m current_temp)\n",
      "Cell \u001b[0;32mIn [65], line 107\u001b[0m, in \u001b[0;36mget_benef\u001b[0;34m(state)\u001b[0m\n\u001b[1;32m    106\u001b[0m \u001b[39mdef\u001b[39;00m \u001b[39mget_benef\u001b[39m(state):\n\u001b[0;32m--> 107\u001b[0m     \u001b[39mreturn\u001b[39;00m simul_main(state[\u001b[39m\"\u001b[39;49m\u001b[39mperiodicidad\u001b[39;49m\u001b[39m\"\u001b[39;49m], state[\u001b[39m\"\u001b[39;49m\u001b[39mnivel_1\u001b[39;49m\u001b[39m\"\u001b[39;49m], state[\u001b[39m\"\u001b[39;49m\u001b[39mnivel_2\u001b[39;49m\u001b[39m\"\u001b[39;49m])\n",
      "Cell \u001b[0;32mIn [28], line 232\u001b[0m, in \u001b[0;36msimul_main\u001b[0;34m(periodicidad, nivel_1, nivel_2)\u001b[0m\n\u001b[1;32m    230\u001b[0m   ts \u001b[39m=\u001b[39m lista[\u001b[39m'\u001b[39m\u001b[39mtc\u001b[39m\u001b[39m'\u001b[39m]\n\u001b[1;32m    231\u001b[0m   lista[\u001b[39m'\u001b[39m\u001b[39mtc\u001b[39m\u001b[39m'\u001b[39m] \u001b[39m=\u001b[39m \u001b[39m4000\u001b[39m\n\u001b[0;32m--> 232\u001b[0m   rutina_llegada_cliente(ts)\n\u001b[1;32m    234\u001b[0m \u001b[39m#Si el siguiente evento es la compra de un pedido \u001b[39;00m\n\u001b[1;32m    235\u001b[0m \u001b[39melif\u001b[39;00m(lista[\u001b[39m'\u001b[39m\u001b[39mtpc\u001b[39m\u001b[39m'\u001b[39m]\u001b[39m<\u001b[39m\u001b[39m=\u001b[39mlista[\u001b[39m'\u001b[39m\u001b[39mtc\u001b[39m\u001b[39m'\u001b[39m] \u001b[39mand\u001b[39;00m lista[\u001b[39m'\u001b[39m\u001b[39mtpc\u001b[39m\u001b[39m'\u001b[39m]\u001b[39m<\u001b[39m\u001b[39m=\u001b[39mlista[\u001b[39m'\u001b[39m\u001b[39mtp\u001b[39m\u001b[39m'\u001b[39m]):\n",
      "Cell \u001b[0;32mIn [28], line 98\u001b[0m, in \u001b[0;36mrutina_llegada_cliente\u001b[0;34m(ts)\u001b[0m\n\u001b[1;32m     95\u001b[0m   var_aux \u001b[39m=\u001b[39m t_real\n\u001b[1;32m     97\u001b[0m \u001b[39m#Generamos el tiempo que tarda en llegar el siguiente cliente\u001b[39;00m\n\u001b[0;32m---> 98\u001b[0m Y \u001b[39m=\u001b[39m stats\u001b[39m.\u001b[39;49mpoisson\u001b[39m.\u001b[39;49mrvs(lambda_poisson, size\u001b[39m=\u001b[39;49m\u001b[39m1\u001b[39;49m)[\u001b[39m0\u001b[39m] \n\u001b[1;32m    100\u001b[0m \u001b[39m# si el cliente llega antes de acabar la simulacion, se simula\u001b[39;00m\n\u001b[1;32m    101\u001b[0m \u001b[39mif\u001b[39;00m Y\u001b[39m+\u001b[39mt_real \u001b[39m<\u001b[39m T_simulacion:\n",
      "File \u001b[0;32m~/.local/lib/python3.8/site-packages/scipy/stats/_distn_infrastructure.py:3335\u001b[0m, in \u001b[0;36mrv_discrete.rvs\u001b[0;34m(self, *args, **kwargs)\u001b[0m\n\u001b[1;32m   3306\u001b[0m \u001b[39m\"\"\"Random variates of given type.\u001b[39;00m\n\u001b[1;32m   3307\u001b[0m \n\u001b[1;32m   3308\u001b[0m \u001b[39mParameters\u001b[39;00m\n\u001b[0;32m   (...)\u001b[0m\n\u001b[1;32m   3332\u001b[0m \n\u001b[1;32m   3333\u001b[0m \u001b[39m\"\"\"\u001b[39;00m\n\u001b[1;32m   3334\u001b[0m kwargs[\u001b[39m'\u001b[39m\u001b[39mdiscrete\u001b[39m\u001b[39m'\u001b[39m] \u001b[39m=\u001b[39m \u001b[39mTrue\u001b[39;00m\n\u001b[0;32m-> 3335\u001b[0m \u001b[39mreturn\u001b[39;00m \u001b[39msuper\u001b[39;49m()\u001b[39m.\u001b[39;49mrvs(\u001b[39m*\u001b[39;49margs, \u001b[39m*\u001b[39;49m\u001b[39m*\u001b[39;49mkwargs)\n",
      "File \u001b[0;32m~/.local/lib/python3.8/site-packages/scipy/stats/_distn_infrastructure.py:1058\u001b[0m, in \u001b[0;36mrv_generic.rvs\u001b[0;34m(self, *args, **kwds)\u001b[0m\n\u001b[1;32m   1056\u001b[0m discrete \u001b[39m=\u001b[39m kwds\u001b[39m.\u001b[39mpop(\u001b[39m'\u001b[39m\u001b[39mdiscrete\u001b[39m\u001b[39m'\u001b[39m, \u001b[39mNone\u001b[39;00m)\n\u001b[1;32m   1057\u001b[0m rndm \u001b[39m=\u001b[39m kwds\u001b[39m.\u001b[39mpop(\u001b[39m'\u001b[39m\u001b[39mrandom_state\u001b[39m\u001b[39m'\u001b[39m, \u001b[39mNone\u001b[39;00m)\n\u001b[0;32m-> 1058\u001b[0m args, loc, scale, size \u001b[39m=\u001b[39m \u001b[39mself\u001b[39;49m\u001b[39m.\u001b[39;49m_parse_args_rvs(\u001b[39m*\u001b[39;49margs, \u001b[39m*\u001b[39;49m\u001b[39m*\u001b[39;49mkwds)\n\u001b[1;32m   1059\u001b[0m cond \u001b[39m=\u001b[39m logical_and(\u001b[39mself\u001b[39m\u001b[39m.\u001b[39m_argcheck(\u001b[39m*\u001b[39margs), (scale \u001b[39m>\u001b[39m\u001b[39m=\u001b[39m \u001b[39m0\u001b[39m))\n\u001b[1;32m   1060\u001b[0m \u001b[39mif\u001b[39;00m \u001b[39mnot\u001b[39;00m np\u001b[39m.\u001b[39mall(cond):\n",
      "File \u001b[0;32m<string>:6\u001b[0m, in \u001b[0;36m_parse_args_rvs\u001b[0;34m(self, mu, loc, size)\u001b[0m\n",
      "File \u001b[0;32m~/.local/lib/python3.8/site-packages/scipy/stats/_distn_infrastructure.py:914\u001b[0m, in \u001b[0;36mrv_generic._argcheck_rvs\u001b[0;34m(self, *args, **kwargs)\u001b[0m\n\u001b[1;32m    912\u001b[0m     size_ \u001b[39m=\u001b[39m bcast_shape\n\u001b[1;32m    913\u001b[0m \u001b[39melse\u001b[39;00m:\n\u001b[0;32m--> 914\u001b[0m     size_ \u001b[39m=\u001b[39m \u001b[39mtuple\u001b[39m(np\u001b[39m.\u001b[39;49matleast_1d(size))\n\u001b[1;32m    916\u001b[0m \u001b[39m# Check compatibility of size_ with the broadcast shape of all\u001b[39;00m\n\u001b[1;32m    917\u001b[0m \u001b[39m# the parameters.  This check is intended to be consistent with\u001b[39;00m\n\u001b[1;32m    918\u001b[0m \u001b[39m# how the numpy random variate generators (e.g. np.random.normal,\u001b[39;00m\n\u001b[0;32m   (...)\u001b[0m\n\u001b[1;32m    924\u001b[0m \u001b[39m# shape with fewer dimensions with enough dimensions of length 1\u001b[39;00m\n\u001b[1;32m    925\u001b[0m \u001b[39m# so that the two shapes have the same number of dimensions.\u001b[39;00m\n\u001b[1;32m    926\u001b[0m ndiff \u001b[39m=\u001b[39m bcast_ndim \u001b[39m-\u001b[39m \u001b[39mlen\u001b[39m(size_)\n",
      "File \u001b[0;32m<__array_function__ internals>:180\u001b[0m, in \u001b[0;36matleast_1d\u001b[0;34m(*args, **kwargs)\u001b[0m\n",
      "File \u001b[0;32m~/.local/lib/python3.8/site-packages/numpy/core/shape_base.py:70\u001b[0m, in \u001b[0;36matleast_1d\u001b[0;34m(*arys)\u001b[0m\n\u001b[1;32m     68\u001b[0m     \u001b[39melse\u001b[39;00m:\n\u001b[1;32m     69\u001b[0m         result \u001b[39m=\u001b[39m ary\n\u001b[0;32m---> 70\u001b[0m     res\u001b[39m.\u001b[39mappend(result)\n\u001b[1;32m     71\u001b[0m \u001b[39mif\u001b[39;00m \u001b[39mlen\u001b[39m(res) \u001b[39m==\u001b[39m \u001b[39m1\u001b[39m:\n\u001b[1;32m     72\u001b[0m     \u001b[39mreturn\u001b[39;00m res[\u001b[39m0\u001b[39m]\n",
      "\u001b[0;31mKeyboardInterrupt\u001b[0m: "
     ]
    }
   ],
   "source": [
    "initial_state = {'periodicidad':168 ,  \n",
    "                      'nivel_1': 1500,\n",
    "                      'nivel_2': 1000 }\n",
    "\n",
    "recocido_simulado(initial_state)"
   ]
  },
  {
   "cell_type": "code",
   "execution_count": 63,
   "metadata": {},
   "outputs": [
    {
     "data": {
      "image/png": "[encoded data removed]",
      "text/plain": [
       "<Figure size 640x480 with 1 Axes>"
      ]
     },
     "metadata": {},
     "output_type": "display_data"
    }
   ],
   "source": [
    "initial_state = {'periodicidad':168 ,  \n",
    "                      'nivel_1': 1500,\n",
    "                      'nivel_2': 1000 }\n",
    "buscando_temperatura(8000,initial_state)"
   ]
  },
  {
   "cell_type": "code",
   "execution_count": null,
   "metadata": {
    "colab": {
     "base_uri": "https://localhost:8080/"
    },
    "id": "eH-T2d4K7UvG",
    "outputId": "03dcc814-96d9-4bb5-f6f5-4af9f0e00d0e"
   },
   "outputs": [],
   "source": [
    "\n"
   ]
  },
  {
   "cell_type": "code",
   "execution_count": null,
   "metadata": {},
   "outputs": [],
   "source": []
  }
 ],
 "metadata": {
  "colab": {
   "provenance": []
  },
  "kernelspec": {
   "display_name": "Python 3 (ipykernel)",
   "language": "python",
   "name": "python3"
  },
  "language_info": {
   "codemirror_mode": {
    "name": "ipython",
    "version": 3
   },
   "file_extension": ".py",
   "mimetype": "text/x-python",
   "name": "python",
   "nbconvert_exporter": "python",
   "pygments_lexer": "ipython3",
   "version": "3.9.2"
  },
  "vscode": {
   "interpreter": {
    "hash": "916dbcbb3f70747c44a77c7bcd40155683ae19c65e1c03b4aa3499c5328201f1"
   }
  }
 },
 "nbformat": 4,
 "nbformat_minor": 1
}
